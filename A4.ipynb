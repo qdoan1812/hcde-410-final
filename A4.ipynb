{
 "cells": [
  {
   "cell_type": "markdown",
   "id": "d0b91b59-25e1-4c84-9ab1-b28dea01deb2",
   "metadata": {},
   "source": [
    "# I. Motivation and problem statement:\n",
    "Since the emergence of data storage and usage over time by private companies, the threats of data breaches have always been a critical  issue, costing both direct financial impacts for industries and indirect impact of personal information stolen to the users of those companies. As a result, I'm planning to do this analysis in order to investigate which type of industry is most targeted for data breaching, if there's any considerable difference between the number of records lost for each type of data breach and how this trend changed over time. I believe gaining a deeper insight into this would help prospective industries to be more conscious of the risks they might face regarding data breach, and to implement approriate legal procedures as well as security procedures fast enough to protect the victimm's personal information in times of crisis.\n",
    "\n",
    "# II. Data selected for analysis:\n",
    "For this analysis, I'm gonna use the dataset about data breaches report from the Privacy Rights Clearinghouse (PRC), which can be found at this link: https://privacyrights.org/data-breaches. This dataset specifies the type of breach and the type of businesses and organizations associated with each incident from 2005 to 2018, with more than 9000 breach events. The license of this data is of Attribution-NonCommercial-ShareAlike 4.0 International (CC BY-NC-SA 4.0), meaning it allows me to copy the material in any format and transform, build upon that material. This dataset is suitable for addressing my research goal because it has data on which exact type of data breach for each event, associated with each organization, allowing me to analyze the trend of data breaches by type and by  industry over time. Another dataset that I'm going to use is this dataset from Information is Beautiful which contains over 30,000 data breaches events from 2004 to 2021, it can be found at this link: https://www.informationisbeautiful.net/visualizations/worlds-biggest-data-breaches-hacks/ This dataset contains more up-to-date data breaches events compared to the first one. This license of this data is also of Creative Commons license (CC), allowing me to use and build upon the dataset of this organization. This dataset provides the number of records lost during later events and help me identify the trend of data breaching more recently. One possible ethical consideration for both these dataset is that they also included each company's name for each event, thus, I wouldn't specify directly any company in this report in order to avoid breaking down their reputation without their awareness.\n",
    "\n",
    "# III. Unknowns and dependencies:\n",
    "There are some factors that outside of my control that might impact my ability to complete this project by the end of the quarter, including having a difficult time using python on Jupiter Notebook to do my analysis, which would take more time than I expected, another problem is that I would have to find another dataset about data breach cost to answer one of my research question and I wouldnn't find the suitable dataset for that. \n"
   ]
  },
  {
   "cell_type": "markdown",
   "id": "7ced6933-f561-4436-a048-e627f1d4c17b",
   "metadata": {},
   "source": [
    "# IV. Research questions (or hypotheses):\n",
    "The hypothesis in the course of my research project is that data breaches caused by external reasons are more detrimental (causing the most lost in record numbers and/or financial aspects) than internal reasons and that these breaches are most targeted at businesses such as financial and insurance services since these businesses make the most profit compared to other types of businesses. \n",
    "\n",
    "# V. Background and/or Related Work:\n",
    "The loss of personal and senstive information regarding the users and/or the companies has led to significant reputational damage as well as financial losses. According to the IBM’s 2016 Cost of Data Breach Study, the average cost of a data breach has reached $4 million. According to this article (https://onlinelibrary.wiley.com/doi/full/10.1002/widm.1211), the conclusions that they reached after analysing the statistics of data leak incidents from 2011 to 2016 from Identity Theft Resource Center is that data leakage has been increasing, with business and medical/healthcare leaks take the majority of the leaks. Moreover, from the figure that they included, the number of breaches caused by outsiders (hackers, etc) in 2016 takes around 55% of the overall incident. This article also stated that according to other reports, there has been a threat of insiders causing data leak in recent years, with more than 40% of breaches perpetrated from inside a company. According to another report of Verizon DBIR Team in 2020 analyzing both incidents and breaches collected from a variety of sources using the VERIS framework (https://enterprise.verizon.com/resources/reports/dbir/2020/introduction/), it has also confirmed that external attackers are considerably more common than are internal attackers, with Financial being the primary motive. The actors of these breaches come primarily from phishing and credential theft, particularly from “Social” and “Hacking” subsections respectively. Thus, these finidings have informed me to come up with my hypotheses stated above, to investigate the overall trend of data breaches more recently in terms of the types of businesses most targeted and the types of attackers behind them. \n",
    "\n",
    "# VI. Methodology:\n",
    "For the first hypothesis, I will use Student's T test, specifically the Independent samples T test, to compare the means of two sets of data between number of records lost caused by external reasons (hacking, malware, etc) and internal reasons (espionage, accidental data sharing, etc) from the dataset of Information is Beautiful. In order to present this finding, I'm going to present my model output in a table and then describe the specific coeficients that lead me to my conclusions. This method of Student's T test is approriate to examine if there's a significant difference betweence the two chosen independent, categorical groups without knowing facts about the population, like the population standard deviation. For the second hypothesis, I'm going to compute the total number of data breach incidents for each type of businesses from the dataset of PRC and plot those results on a time series graphs against a range of years from 2018 to 2021 in order to identify if attackers have been leaning towards to attack businesses such as financial in the later years compared to the earlier reports. This method of presenting my results as a graph is useful because it allows me to visualize and analyze the trends over time for each type of businesses. \n"
   ]
  }
 ],
 "metadata": {
  "kernelspec": {
   "display_name": "Python 3",
   "language": "python",
   "name": "python3"
  },
  "language_info": {
   "codemirror_mode": {
    "name": "ipython",
    "version": 3
   },
   "file_extension": ".py",
   "mimetype": "text/x-python",
   "name": "python",
   "nbconvert_exporter": "python",
   "pygments_lexer": "ipython3",
   "version": "3.8.8"
  }
 },
 "nbformat": 4,
 "nbformat_minor": 5
}
